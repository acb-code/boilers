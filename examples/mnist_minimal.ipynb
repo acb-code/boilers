{
 "cells": [
  {
   "cell_type": "code",
   "execution_count": null,
   "id": "97afd4b6",
   "metadata": {},
   "outputs": [],
   "source": [
    "# tbd"
   ]
  }
 ],
 "metadata": {
  "language_info": {
   "name": "python"
  }
 },
 "nbformat": 4,
 "nbformat_minor": 5
}
