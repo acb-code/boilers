{
 "cells": [
  {
   "cell_type": "code",
   "execution_count": 1,
   "id": "d8411811",
   "metadata": {},
   "outputs": [
    {
     "name": "stdout",
     "output_type": "stream",
     "text": [
      "Torch: 2.8.0+cu128 | CUDA: False\n"
     ]
    }
   ],
   "source": [
    "# Colab bootstrap: clone & install your package in editable mode\n",
    "import sys, os, subprocess, pathlib, textwrap\n",
    "\n",
    "IN_COLAB = \"google.colab\" in sys.modules\n",
    "if IN_COLAB:\n",
    "    REPO = \"https://github.com/acb-code/boilers.git\"\n",
    "    WORKDIR = \"/content/boilers\"\n",
    "    if not os.path.exists(WORKDIR):\n",
    "        subprocess.run([\"git\", \"clone\", REPO, WORKDIR], check=True)\n",
    "    os.chdir(WORKDIR)\n",
    "    subprocess.run([sys.executable, \"-m\", \"pip\", \"install\", \"-U\", \"pip\", \"setuptools\", \"wheel\"], check=True)\n",
    "    subprocess.run([sys.executable, \"-m\", \"pip\", \"install\", '-e', '.[dev]'], check=True)\n",
    "\n",
    "import torch\n",
    "print(\"Torch:\", torch.__version__, \"| CUDA:\", torch.cuda.is_available())\n"
   ]
  },
  {
   "cell_type": "code",
   "execution_count": 2,
   "id": "d8325089",
   "metadata": {},
   "outputs": [
    {
     "name": "stdout",
     "output_type": "stream",
     "text": [
      "Device: cpu\n"
     ]
    }
   ],
   "source": [
    "%load_ext autoreload\n",
    "%autoreload 2\n",
    "\n",
    "import torch, random, numpy as np\n",
    "def set_seed(s=1337):\n",
    "    random.seed(s); np.random.seed(s); torch.manual_seed(s); torch.cuda.manual_seed_all(s)\n",
    "set_seed()\n",
    "\n",
    "device = \"cuda\" if torch.cuda.is_available() else \"cpu\"\n",
    "print(\"Device:\", device)\n"
   ]
  },
  {
   "cell_type": "code",
   "execution_count": 3,
   "id": "70e07470",
   "metadata": {},
   "outputs": [
    {
     "name": "stdout",
     "output_type": "stream",
     "text": [
      "epoch 01 | train 0.4508 | val 0.3779 | acc 0.818\n",
      "epoch 02 | train 0.3377 | val 0.3260 | acc 0.850\n",
      "epoch 03 | train 0.3084 | val 0.3098 | acc 0.859\n",
      "epoch 04 | train 0.2976 | val 0.3029 | acc 0.859\n",
      "epoch 05 | train 0.2926 | val 0.2993 | acc 0.866\n",
      "epoch 01 | train 0.5205 | val 0.3569 | acc 0.865\n",
      "epoch 02 | train 0.3000 | val 0.2745 | acc 0.891\n",
      "epoch 03 | train 0.2514 | val 0.2403 | acc 0.916\n",
      "epoch 04 | train 0.2171 | val 0.2065 | acc 0.931\n",
      "epoch 05 | train 0.1799 | val 0.1725 | acc 0.940\n",
      "epoch 06 | train 0.1466 | val 0.1447 | acc 0.955\n",
      "epoch 07 | train 0.1185 | val 0.1258 | acc 0.965\n",
      "epoch 08 | train 0.1015 | val 0.1099 | acc 0.974\n",
      "epoch 09 | train 0.0904 | val 0.1048 | acc 0.973\n",
      "epoch 10 | train 0.0836 | val 0.1039 | acc 0.974\n"
     ]
    }
   ],
   "source": [
    "from boilers.data.datasets import moons\n",
    "from boilers.models.logistic import LogisticClassifier\n",
    "from boilers.models.mlp import MLP\n",
    "from boilers.training.loop import fit, TrainCfg\n",
    "import torch.nn as nn\n",
    "\n",
    "train_dl, val_dl, meta = moons(batch_size=128)\n",
    "\n",
    "# Try logistic regression\n",
    "logreg = LogisticClassifier(meta[\"input_dim\"], meta[\"num_classes\"])\n",
    "cfg = TrainCfg(epochs=5, lr=1e-2, optimizer=\"sgd\")\n",
    "hist = fit(logreg, train_dl, val_dl, cfg, loss_fn=nn.CrossEntropyLoss())\n",
    "\n",
    "# Try a small MLP\n",
    "mlp = MLP(input_dim=meta[\"input_dim\"], hidden_sizes=(64,64), num_classes=meta[\"num_classes\"])\n",
    "cfg = TrainCfg(epochs=10, lr=1e-3, optimizer=\"adam\")\n",
    "hist = fit(mlp, train_dl, val_dl, cfg, loss_fn=nn.CrossEntropyLoss())\n"
   ]
  },
  {
   "cell_type": "code",
   "execution_count": null,
   "id": "5196d370",
   "metadata": {},
   "outputs": [],
   "source": []
  },
  {
   "cell_type": "code",
   "execution_count": null,
   "id": "17cd59a8",
   "metadata": {},
   "outputs": [],
   "source": []
  }
 ],
 "metadata": {
  "kernelspec": {
   "display_name": "boilers",
   "language": "python",
   "name": "python3"
  },
  "language_info": {
   "codemirror_mode": {
    "name": "ipython",
    "version": 3
   },
   "file_extension": ".py",
   "mimetype": "text/x-python",
   "name": "python",
   "nbconvert_exporter": "python",
   "pygments_lexer": "ipython3",
   "version": "3.10.18"
  }
 },
 "nbformat": 4,
 "nbformat_minor": 5
}
