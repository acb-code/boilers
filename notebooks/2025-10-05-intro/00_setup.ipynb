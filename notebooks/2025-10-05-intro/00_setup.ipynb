{
 "cells": [
  {
   "cell_type": "code",
   "execution_count": null,
   "id": "6774a287",
   "metadata": {},
   "outputs": [],
   "source": [
    "# Colab bootstrap: clone & install your package in editable mode\n",
    "import sys, os, subprocess, pathlib, textwrap\n",
    "\n",
    "IN_COLAB = \"google.colab\" in sys.modules\n",
    "if IN_COLAB:\n",
    "    REPO = \"https://github.com/acb-code/boilers.git\"\n",
    "    WORKDIR = \"/content/boilers\"\n",
    "    if not os.path.exists(WORKDIR):\n",
    "        subprocess.run([\"git\", \"clone\", REPO, WORKDIR], check=True)\n",
    "    os.chdir(WORKDIR)\n",
    "    subprocess.run([sys.executable, \"-m\", \"pip\", \"install\", \"-U\", \"pip\", \"setuptools\", \"wheel\"], check=True)\n",
    "    subprocess.run([sys.executable, \"-m\", \"pip\", \"install\", '-e', '.[dev]'], check=True)\n",
    "\n",
    "import torch\n",
    "print(\"Torch:\", torch.__version__, \"| CUDA:\", torch.cuda.is_available())\n"
   ]
  },
  {
   "cell_type": "code",
   "execution_count": null,
   "id": "5aa70d55",
   "metadata": {},
   "outputs": [],
   "source": [
    "%load_ext autoreload\n",
    "%autoreload 2\n",
    "\n",
    "# If not installed in editable mode yet:\n",
    "import sys, os\n",
    "sys.path.append(os.path.abspath(\"../..\"))  # adjust if needed\n",
    "\n",
    "from boilers.models.resnet_tiny import ResNetTiny   # in boilers"
   ]
  },
  {
   "cell_type": "code",
   "execution_count": null,
   "id": "0519996c",
   "metadata": {},
   "outputs": [],
   "source": []
  },
  {
   "cell_type": "code",
   "execution_count": null,
   "id": "db69a49f",
   "metadata": {},
   "outputs": [],
   "source": []
  },
  {
   "cell_type": "code",
   "execution_count": null,
   "id": "b049c27d",
   "metadata": {},
   "outputs": [],
   "source": []
  },
  {
   "cell_type": "code",
   "execution_count": null,
   "id": "71962867",
   "metadata": {},
   "outputs": [],
   "source": []
  },
  {
   "cell_type": "code",
   "execution_count": null,
   "id": "5d79417a",
   "metadata": {},
   "outputs": [],
   "source": []
  }
 ],
 "metadata": {
  "kernelspec": {
   "display_name": "boilers",
   "language": "python",
   "name": "python3"
  },
  "language_info": {
   "name": "python",
   "version": "3.10.18"
  }
 },
 "nbformat": 4,
 "nbformat_minor": 5
}
