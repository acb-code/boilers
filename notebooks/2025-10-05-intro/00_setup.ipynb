{
 "cells": [
  {
   "cell_type": "code",
   "execution_count": 1,
   "id": "6774a287",
   "metadata": {},
   "outputs": [
    {
     "name": "stdout",
     "output_type": "stream",
     "text": [
      "Torch: 2.8.0+cu128 | CUDA: False\n"
     ]
    }
   ],
   "source": [
    "# Colab bootstrap: clone & install your package in editable mode\n",
    "import sys, os, subprocess, pathlib, textwrap\n",
    "\n",
    "IN_COLAB = \"google.colab\" in sys.modules\n",
    "if IN_COLAB:\n",
    "    REPO = \"https://github.com/acb-code/boilers.git\"\n",
    "    WORKDIR = \"/content/boilers\"\n",
    "    if not os.path.exists(WORKDIR):\n",
    "        subprocess.run([\"git\", \"clone\", REPO, WORKDIR], check=True)\n",
    "    os.chdir(WORKDIR)\n",
    "    subprocess.run([sys.executable, \"-m\", \"pip\", \"install\", \"-U\", \"pip\", \"setuptools\", \"wheel\"], check=True)\n",
    "    subprocess.run([sys.executable, \"-m\", \"pip\", \"install\", '-e', '.[dev]'], check=True)\n",
    "\n",
    "import torch\n",
    "print(\"Torch:\", torch.__version__, \"| CUDA:\", torch.cuda.is_available())\n"
   ]
  },
  {
   "cell_type": "code",
   "execution_count": 2,
   "id": "5aa70d55",
   "metadata": {},
   "outputs": [
    {
     "name": "stdout",
     "output_type": "stream",
     "text": [
      "Device: cpu\n"
     ]
    }
   ],
   "source": [
    "%load_ext autoreload\n",
    "%autoreload 2\n",
    "\n",
    "import torch, random, numpy as np\n",
    "def set_seed(s=1337):\n",
    "    random.seed(s); np.random.seed(s); torch.manual_seed(s); torch.cuda.manual_seed_all(s)\n",
    "set_seed()\n",
    "\n",
    "device = \"cuda\" if torch.cuda.is_available() else \"cpu\"\n",
    "print(\"Device:\", device)"
   ]
  }
 ],
 "metadata": {
  "kernelspec": {
   "display_name": "boilers",
   "language": "python",
   "name": "python3"
  },
  "language_info": {
   "codemirror_mode": {
    "name": "ipython",
    "version": 3
   },
   "file_extension": ".py",
   "mimetype": "text/x-python",
   "name": "python",
   "nbconvert_exporter": "python",
   "pygments_lexer": "ipython3",
   "version": "3.10.18"
  }
 },
 "nbformat": 4,
 "nbformat_minor": 5
}
